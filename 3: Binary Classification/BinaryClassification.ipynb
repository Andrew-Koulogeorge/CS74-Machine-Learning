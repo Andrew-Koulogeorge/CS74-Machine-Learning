{
  "cells": [
    {
      "cell_type": "markdown",
      "metadata": {
        "id": "NTWSmOwtddM0"
      },
      "source": [
        "# HW3 Binary Classification "
      ]
    },
    {
      "cell_type": "markdown",
      "metadata": {
        "id": "iPtuZnmeessH"
      },
      "source": [
        "# Logistic Regression and Perceptron"
      ]
    },
    {
      "cell_type": "markdown",
      "metadata": {
        "id": "j0Yhv6bTddM4"
      },
      "source": [
        "####Please run the cell below to import libraries needed for this HW. Please use the autograd numpy, otherwise you will have issues. Please remember to always use the np library for mathematical functions (e.g., np.log, np.exp, np.sum, etc)"
      ]
    },
    {
      "cell_type": "code",
      "execution_count": 35,
      "metadata": {
        "id": "zu-X5y1jddM4"
      },
      "outputs": [],
      "source": [
        "import autograd.numpy as np\n",
        "from autograd import grad\n",
        "import matplotlib.pyplot as plt"
      ]
    },
    {
      "cell_type": "markdown",
      "metadata": {
        "id": "6IciJm7vddM5"
      },
      "source": [
        "#### **Q1**) [[5 points]](https://) Implement the sigmod funcation discussed in class. The function takes a value, x, as input and returns the sigmoid function applied to the value."
      ]
    },
    {
      "cell_type": "code",
      "execution_count": 36,
      "metadata": {
        "id": "SO2a1Sg4ddM5"
      },
      "outputs": [],
      "source": [
        "def sigmoid(x):\n",
        "    #Your code here\n",
        "    return (1 / (1 + np.exp(-x)))"
      ]
    },
    {
      "cell_type": "markdown",
      "metadata": {
        "id": "0bzLCGQGddM5"
      },
      "source": [
        "#### **Q2**) [[20 points]](https://) Implement the logistic regression model and the cross entropy cost discussed in class. Note that the logistic regression model relies on the sigmoid function (which you have implemented above) and the linear  model (which you have implemented in HW2). You can use the linear model from HW2 for this problem. Similar to the least-squares cost from HW2, the cross entropy cost takes in as input an array of weights, w, an array of x's and an array of ys and return a float indicating the total cost."
      ]
    },
    {
      "cell_type": "code",
      "execution_count": 37,
      "metadata": {
        "id": "sdWn5N_oddM6"
      },
      "outputs": [],
      "source": [
        "#Your linear model from HW2\n",
        "def model(x,w):\n",
        "    x = np.array(x)\n",
        "    w = np.array(w)\n",
        "\n",
        "    # print(f\"Shape of the data: {x.shape}\")\n",
        "    # print(f\"Shape of our learnable parameters: {w[1:].shape}\")\n",
        "    # print(f\"This shape should be the same size as the data. Computing a scalar for each element in the dataset!: {np.dot(np.transpose(w[1:]), x).shape}\")\n",
        "    # print(w[0] + np.dot(np.transpose(w[1:]), x))\n",
        "    return w[0] + np.dot(np.transpose(w[1:]), x)\n",
        "\n",
        "#The logistic regression cross entropy cost\n",
        "def cross_entropy(w,x,y):\n",
        "    #Your code here\n",
        "    x = np.array(x)\n",
        "    w = np.array(w)\n",
        "    y = np.array(y)\n",
        "\n",
        "    predictions = sigmoid(model(x,w))\n",
        "\n",
        "    return np.mean(-(y * (np.log(predictions)) + (1-y) * (np.log(1 - predictions)))) # remember that we want our loss always to be a scalar function\n",
        "\n",
        "# MAKE SURE TO BE USING NUMPY OPERATIONS\n"
      ]
    },
    {
      "cell_type": "markdown",
      "metadata": {
        "id": "U9Xnd6oWddM6"
      },
      "source": [
        "#### **Q3**) [[2 points]](https://) Run the code below to read a data file. Plot a scatter plot of x vs y."
      ]
    },
    {
      "cell_type": "code",
      "execution_count": 38,
      "metadata": {
        "id": "uWCBzSL-ddM6"
      },
      "outputs": [],
      "source": [
        "csvname = '2d_classification_data_v1_entropy.csv'\n",
        "data = np.loadtxt(csvname,delimiter = ',')\n",
        "x = data[:-1,:]\n",
        "y = data[-1:,:]"
      ]
    },
    {
      "cell_type": "code",
      "execution_count": 39,
      "metadata": {},
      "outputs": [
        {
          "data": {
            "text/plain": [
              "<matplotlib.collections.PathCollection at 0x137f95790>"
            ]
          },
          "execution_count": 39,
          "metadata": {},
          "output_type": "execute_result"
        },
        {
          "data": {
            "image/png": "[encoded data removed]",
            "text/plain": [
              "<Figure size 640x480 with 1 Axes>"
            ]
          },
          "metadata": {},
          "output_type": "display_data"
        }
      ],
      "source": [
        "plt.scatter(x,y)"
      ]
    },
    {
      "cell_type": "markdown",
      "metadata": {
        "id": "n6GtLiy-ddM6"
      },
      "source": [
        "#### **Q4**) [[10 points]](https://) Copy the gradient descent function from HW2. Run the function using the cross_entropy cost and the x and y from above. The parameters should be set to:\n",
        "`max_its=3000, w=[3.0,3.0], alpha=0.1`.\n",
        "#### Save the cost and weight history returned by the gradient descent function. Plot the cost history.\n"
      ]
    },
    {
      "cell_type": "code",
      "execution_count": 40,
      "metadata": {
        "id": "801XFyS7ddM7"
      },
      "outputs": [],
      "source": [
        "def gradient_descent(g,alpha,max_its,w,x,y):\n",
        "    \"\"\"\n",
        "    g is the least squares cost function we are trying to opimize. the cost function is a function (least squares) depends on the input, label, and weights\n",
        "    \"\"\"\n",
        "    \n",
        "    gradient = grad(g)   ## This is how you use the autograd library to find the gradient of a function  \n",
        "\n",
        "    theta = w\n",
        "    weight_history = [theta]\n",
        "    cost_history = [g(theta,x,y)]\n",
        "\n",
        "    for _ in range(max_its):\n",
        "        theta = theta - (alpha * np.array(gradient(theta, x, y)))\n",
        "        weight_history.append(theta)\n",
        "        cost_history.append(g(theta,x,y))\n",
        "\n",
        "    return weight_history,cost_history"
      ]
    },
    {
      "cell_type": "code",
      "execution_count": 41,
      "metadata": {
        "id": "uHCaDPApddM7"
      },
      "outputs": [
        {
          "data": {
            "text/plain": [
              "Text(0, 0.5, 'Loss')"
            ]
          },
          "execution_count": 41,
          "metadata": {},
          "output_type": "execute_result"
        },
        {
          "data": {
            "image/png": "[encoded data removed]",
            "text/plain": [
              "<Figure size 640x480 with 1 Axes>"
            ]
          },
          "metadata": {},
          "output_type": "display_data"
        }
      ],
      "source": [
        "##Call the gradient_descent function here\n",
        "##Plot the cost history here\n",
        "max_its=3000\n",
        "w=np.array([3.0,3.0])\n",
        "alpha=0.1\n",
        "\n",
        "w_history, c_history = gradient_descent(g=cross_entropy, alpha=alpha, max_its=max_its, w=w, x=x, y=y)\n",
        "plt.plot(c_history)\n",
        "plt.xlabel(\"Iterations\")\n",
        "plt.ylabel(\"Loss\")"
      ]
    },
    {
      "cell_type": "markdown",
      "metadata": {
        "id": "BvWGspKXddM7"
      },
      "source": [
        "#### **Q5**) [[10 points]](https://) Implement a logistic regression classifier that takes in the learned weights and x as input and returns the probability of the positive class (note that this is just the output of the sigmoid applied to the linear combination of the x and w)"
      ]
    },
    {
      "cell_type": "code",
      "execution_count": 42,
      "metadata": {
        "id": "to5PZc-xddM7"
      },
      "outputs": [],
      "source": [
        "def logistic_regression(learned_w,x):\n",
        "    #your code here\n",
        "    return sigmoid(model(x=x, w=learned_w))"
      ]
    },
    {
      "cell_type": "markdown",
      "metadata": {
        "id": "TyLEcv5eddM7"
      },
      "source": [
        "#### **Q6**) [[5 points]](https://) Use the learned weights from the last gradient descent run and the logistic regression function implemented above to plot the learned curve. You can use the linspace method (shown below) to generate a list of xs that you can use. You need to generate a y for each of the candidate xs using the logistic regression function and the learned weights. On the same figure, also plot the scatter plot from Q3.\n"
      ]
    },
    {
      "cell_type": "code",
      "execution_count": 43,
      "metadata": {
        "id": "qSrI4rFCddM7"
      },
      "outputs": [
        {
          "name": "stdout",
          "output_type": "stream",
          "text": [
            "shape of linspace: (50,)\n",
            "shape of linspace after we expand it: (1, 50)\n"
          ]
        }
      ],
      "source": [
        "s = np.linspace(np.min(x),np.max(x))\n",
        "\n",
        "print(f\"shape of linspace: {s.shape}\")\n",
        "\n",
        "s_expanded = np.expand_dims(s, axis=0)\n",
        "\n",
        "print(f\"shape of linspace after we expand it: {s_expanded.shape}\")\n",
        "\n",
        "y_hat = np.squeeze(logistic_regression(learned_w=w_history[-1], x=s_expanded))\n"
      ]
    },
    {
      "cell_type": "code",
      "execution_count": 44,
      "metadata": {},
      "outputs": [
        {
          "data": {
            "text/plain": [
              "<matplotlib.collections.PathCollection at 0x147968550>"
            ]
          },
          "execution_count": 44,
          "metadata": {},
          "output_type": "execute_result"
        },
        {
          "data": {
            "image/png": "[encoded data removed]",
            "text/plain": [
              "<Figure size 640x480 with 1 Axes>"
            ]
          },
          "metadata": {},
          "output_type": "display_data"
        }
      ],
      "source": [
        "plt.plot(s, y_hat)\n",
        "plt.scatter(x,y)"
      ]
    },
    {
      "cell_type": "markdown",
      "metadata": {
        "id": "3aufe1b5aquy"
      },
      "source": [
        "#### **Q7**) [[10 points]](https://) Find the decision boundary of the logistic regression model using the learned weights from the last gradient descent run. Note that, since we have only one feature, the decision boundary will be a point. Utilize the linspace function to identify the x-value where the model's output is closest to 0.5."
      ]
    },
    {
      "cell_type": "code",
      "execution_count": 45,
      "metadata": {
        "id": "JNpQ-70Mcfni"
      },
      "outputs": [
        {
          "data": {
            "text/plain": [
              "1.021102406798222"
            ]
          },
          "execution_count": 45,
          "metadata": {},
          "output_type": "execute_result"
        }
      ],
      "source": [
        "s = np.linspace(np.min(x),np.max(x), 1000) # sample points evenly spaced\n",
        "\n",
        "s_expanded = np.expand_dims(s, axis=0)\n",
        "y_hat = np.squeeze(logistic_regression(learned_w=w_history[-1], x=s_expanded))\n",
        "transformed_yhat = np.abs(y_hat - 1/2)\n",
        "\n",
        "boundary = s[np.argmin(transformed_yhat)]\n",
        "boundary\n"
      ]
    },
    {
      "cell_type": "markdown",
      "metadata": {
        "id": "b7VE6Wq_ddM7"
      },
      "source": [
        "#### **Q8**) [[5 points]](https://) Slightly modify the logistic regression model above so that it returns a 1 or 0 based on the specified threshold."
      ]
    },
    {
      "cell_type": "code",
      "execution_count": 46,
      "metadata": {
        "id": "1xZuQeyaddM7"
      },
      "outputs": [],
      "source": [
        "def logistic_regression_modified(learned_w,x, threshold):\n",
        "    ##Your code here\n",
        "    predictions = [] # better to use np.where\n",
        "    for pred in logistic_regression(learned_w, x):\n",
        "        if pred > threshold: predictions.append(1)\n",
        "        else: predictions.append(0)\n",
        "\n",
        "    return np.array(predictions)"
      ]
    },
    {
      "cell_type": "markdown",
      "metadata": {
        "id": "K3ZTW3DMddM8"
      },
      "source": [
        "#### **Q9**) [[20 points]](https://) Write a function (called evaluate) that takes in actual and predicted ys (for a binary classification problem) and return a confusion matrix and the accuracy. Use the modified logistic regression model and the evaluate function below to report the confusion matrix and accuracy for the x and y used for our training at a threshold of 0.5.  "
      ]
    },
    {
      "cell_type": "code",
      "execution_count": 47,
      "metadata": {
        "id": "8aC1zGLqddM8"
      },
      "outputs": [],
      "source": [
        "def evaluate(y_actual,y_pred):\n",
        "    \n",
        "    # where do y and yhat both equal 0 / total = true neg\n",
        "    # where do y and yhat both equal 1 / total = true pos\n",
        "    # where do y=1 and yhat=0 / total = false neg\n",
        "    # where do y=0 and yhat=1 / total = false pos\n",
        "\n",
        "    true_positive = np.sum(np.bitwise_and(y_actual, y_pred))\n",
        "    print(true_positive)\n",
        "    true_negative = np.sum(np.bitwise_and(np.logical_not(y_actual), np.logical_not(y_pred)))\n",
        "    print(true_negative)\n",
        "    false_positive = np.sum(np.bitwise_and(np.logical_not(y_actual), y_pred))\n",
        "    false_negative = np.sum(np.bitwise_and(y_actual, np.logical_not(y_pred)))\n",
        "\n",
        "    accuracy = (true_positive + true_negative) / y_actual.size\n",
        "    return false_positive, false_negative, true_positive, true_negative, accuracy"
      ]
    },
    {
      "cell_type": "code",
      "execution_count": 48,
      "metadata": {},
      "outputs": [
        {
          "data": {
            "text/plain": [
              "array([[0., 0., 0., 0., 0., 1., 1., 1., 1., 1., 1.]])"
            ]
          },
          "execution_count": 48,
          "metadata": {},
          "output_type": "execute_result"
        }
      ],
      "source": [
        "csvname = '2d_classification_data_v1_entropy.csv'\n",
        "data = np.loadtxt(csvname,delimiter = ',')\n",
        "x = data[:-1,:]\n",
        "y = data[-1:,:]\n",
        "y"
      ]
    },
    {
      "cell_type": "code",
      "execution_count": 49,
      "metadata": {},
      "outputs": [
        {
          "name": "stdout",
          "output_type": "stream",
          "text": [
            "6\n",
            "5\n"
          ]
        },
        {
          "data": {
            "text/plain": [
              "(0, 0, 6, 5, 1.0)"
            ]
          },
          "execution_count": 49,
          "metadata": {},
          "output_type": "execute_result"
        }
      ],
      "source": [
        "y_hat = logistic_regression_modified(learned_w=w_history[-1], x=x, threshold=0.5)\n",
        "y = y[0].astype(\"int32\")\n",
        "\n",
        "evaluate(y,y_hat)"
      ]
    },
    {
      "cell_type": "markdown",
      "metadata": {
        "id": "nub9oBOLddM8"
      },
      "source": [
        "#### **Q10**) [[20 points]](https://) Implement the perceptron cost function from the class (the smooth ReLU version). Note that the perceptron cost also uses the linear model (the model function from question 2)."
      ]
    },
    {
      "cell_type": "code",
      "execution_count": 50,
      "metadata": {
        "id": "A9rvEaKSddM8"
      },
      "outputs": [],
      "source": [
        "def perceptron_cost(w,x,y):\n",
        "    ##Your code here\n",
        "    return np.mean(np.log(1 + np.exp(-y * model(x,w))))"
      ]
    },
    {
      "cell_type": "markdown",
      "metadata": {
        "id": "c7o0xuJ9ddM8"
      },
      "source": [
        "#### **Q11**) [[10 points]](https://) Run gradient descent function using the perceptron cost and the x and y from above and the parameters set to:\n",
        "`max_its=3000, w=[3.0,3.0], alpha=0.1`\n",
        "#### Save the cost and weight history returned by the gradient descent function. Plot the cost history. Note that for the perceptron, y values should be assigned as either -1 or 1.\n"
      ]
    },
    {
      "cell_type": "code",
      "execution_count": 51,
      "metadata": {},
      "outputs": [
        {
          "data": {
            "text/plain": [
              "array([-1, -1, -1, -1, -1,  1,  1,  1,  1,  1,  1], dtype=int32)"
            ]
          },
          "execution_count": 51,
          "metadata": {},
          "output_type": "execute_result"
        }
      ],
      "source": [
        "y_perception = y.copy()\n",
        "\n",
        "for i in range(y_perception.size):\n",
        "    if y_perception[i] == 0: y_perception[i] = -1\n",
        "y_perception # makign the other classes to be -1 instead of 0"
      ]
    },
    {
      "cell_type": "code",
      "execution_count": 52,
      "metadata": {},
      "outputs": [
        {
          "data": {
            "text/plain": [
              "<matplotlib.collections.PathCollection at 0x1479ba250>"
            ]
          },
          "execution_count": 52,
          "metadata": {},
          "output_type": "execute_result"
        },
        {
          "data": {
            "image/png": "[encoded data removed]",
            "text/plain": [
              "<Figure size 640x480 with 1 Axes>"
            ]
          },
          "metadata": {},
          "output_type": "display_data"
        }
      ],
      "source": [
        "plt.scatter(x,y_perception)"
      ]
    },
    {
      "cell_type": "code",
      "execution_count": 53,
      "metadata": {
        "id": "Q-fXisqkddM8"
      },
      "outputs": [
        {
          "data": {
            "text/plain": [
              "Text(0, 0.5, 'Loss')"
            ]
          },
          "execution_count": 53,
          "metadata": {},
          "output_type": "execute_result"
        },
        {
          "data": {
            "image/png": "[encoded data removed]",
            "text/plain": [
              "<Figure size 640x480 with 1 Axes>"
            ]
          },
          "metadata": {},
          "output_type": "display_data"
        }
      ],
      "source": [
        "##Call the gradient_descent function here\n",
        "##Plot the cost history here\n",
        "\n",
        "max_its=3000\n",
        "w=np.array([3.0,3.0])\n",
        "alpha=0.1\n",
        "\n",
        "w_history, c_history = gradient_descent(g=perceptron_cost, alpha=alpha, max_its=max_its, w=w, x=x, y=y_perception)\n",
        "plt.plot(c_history)\n",
        "plt.xlabel(\"Iterations\")\n",
        "plt.ylabel(\"Loss\")"
      ]
    },
    {
      "cell_type": "markdown",
      "metadata": {
        "id": "703PrpvUc4k0"
      },
      "source": [
        "#### **Q12**) [[10 points]](https://) Find the decision boundary of the perceptron model (i.e. tbe linear model from question 2) using the learned weights from the last gradient descent run. Note that, since we have only one feature, the decision boundary will be a point. Utilize the linspace function to identify the x-value where the model's output is closest to 0."
      ]
    },
    {
      "cell_type": "code",
      "execution_count": 54,
      "metadata": {
        "id": "Qy69wZy3deIk"
      },
      "outputs": [
        {
          "data": {
            "text/plain": [
              "1.021102406798222"
            ]
          },
          "execution_count": 54,
          "metadata": {},
          "output_type": "execute_result"
        }
      ],
      "source": [
        "s = np.linspace(np.min(x),np.max(x), 1000)\n",
        "s_expanded = np.expand_dims(s, axis=0)\n",
        "##Your code here\n",
        "yhat = model(s_expanded, w_history[-1]) # get predictions from model \n",
        "\n",
        "# want to find where this model is closest to zero\n",
        "boundary_point = s[np.argmin(np.abs(yhat))]\n",
        "boundary_point\n"
      ]
    },
    {
      "cell_type": "markdown",
      "metadata": {
        "id": "_rRcIFjLdmE8"
      },
      "source": [
        "#### **Q13**) [[5 points]](https://) Compare the two decision boundaries you found from Q7 and Q12. If they are similar (or dissimilar), provide your insights on why they appear alike (or different)."
      ]
    },
    {
      "cell_type": "markdown",
      "metadata": {
        "id": "N3TJSCLAeWJB"
      },
      "source": [
        "The boundaries learned by our models are the same. This makes sence because they are both solving the same problem of classification on the same dataset with convex objective functions"
      ]
    },
    {
      "cell_type": "markdown",
      "metadata": {
        "id": "D2XQT2RAecTI"
      },
      "source": [
        "# SKLearn"
      ]
    },
    {
      "cell_type": "markdown",
      "metadata": {
        "id": "KRGR_n4jddM9"
      },
      "source": [
        "#### **Q14**) [[2 points]](https://)  The file 'heart.csv' has 304 lines, each one corresponding to a data point. Each row (i.e., data point), has several columns. Read the data file. Note that the first line is the header describing each column."
      ]
    },
    {
      "cell_type": "code",
      "execution_count": 55,
      "metadata": {
        "id": "iYk6-LaEddM9"
      },
      "outputs": [
        {
          "name": "stdout",
          "output_type": "stream",
          "text": [
            "['\\ufeffage', 'sex', 'cp', 'trestbps', 'chol', 'fbs', 'restecg', 'thalach', 'exang', 'oldpeak', 'slope', 'ca', 'thal', 'target']\n",
            "303\n",
            "['63' '1' '3' '145' '233' '1' '0' '150' '0' '2.3' '0' '0' '1' '1']\n"
          ]
        }
      ],
      "source": [
        "##Your code here\n",
        "import csv\n",
        "#Your code here\n",
        "csvname = 'heart.csv'\n",
        "with open(csvname, mode='r') as file:\n",
        "    reader = csv.reader(file, delimiter=',')\n",
        "    file = list(reader)\n",
        "    cols = file[0]\n",
        "    data = np.array(file[1:])\n",
        "    \n",
        "print(cols)\n",
        "print(len(data))\n",
        "print(data[0])"
      ]
    },
    {
      "cell_type": "code",
      "execution_count": 56,
      "metadata": {},
      "outputs": [],
      "source": [
        "data = data.astype(float)"
      ]
    },
    {
      "cell_type": "markdown",
      "metadata": {
        "id": "ic9dtbz3ddM9"
      },
      "source": [
        "#### **Q15**) [[2 points]](https://) Use the data above to set y to be the \"target\" and X to be the remaining columns."
      ]
    },
    {
      "cell_type": "code",
      "execution_count": 57,
      "metadata": {
        "id": "nVPe4lrKddM9"
      },
      "outputs": [],
      "source": [
        "X = data[:,:-1]\n",
        "y = data[:,-1]"
      ]
    },
    {
      "cell_type": "markdown",
      "metadata": {
        "id": "_2-u1Vq3ddM9"
      },
      "source": [
        "#### **Q16**) [[2 points]](https://) Run the code below to import the logistic regression and the train_test split functions from sklearn. Split your data into 80% train 20% test."
      ]
    },
    {
      "cell_type": "code",
      "execution_count": 58,
      "metadata": {},
      "outputs": [],
      "source": [
        "from sklearn.linear_model import LogisticRegression\n",
        "from sklearn.model_selection import train_test_split\n",
        "##Your code here\n",
        "x_train, x_test, y_train, y_test = train_test_split(X,y, test_size=.20, random_state=42)"
      ]
    },
    {
      "cell_type": "markdown",
      "metadata": {
        "id": "PwXJsWHvddM-"
      },
      "source": [
        "#### **Q17**) [[5 points]](https://) Use sklearn to fit a logistic regression model on your training set. Use all the default parameter. Do not evaluate at this point. (You can find out about sklearn logistic regression here: https://scikit-learn.org/stable/modules/generated/sklearn.linear_model.LogisticRegression.html)"
      ]
    },
    {
      "cell_type": "code",
      "execution_count": 59,
      "metadata": {
        "id": "z3W7tL6cddM-"
      },
      "outputs": [
        {
          "name": "stderr",
          "output_type": "stream",
          "text": [
            "/Users/andrewkoulogeorge/Desktop/Dartmouth/Senior/W24/ML TA/3: Binary Classification/HW3/lib/python3.11/site-packages/sklearn/linear_model/_logistic.py:469: ConvergenceWarning: lbfgs failed to converge (status=1):\n",
            "STOP: TOTAL NO. of ITERATIONS REACHED LIMIT.\n",
            "\n",
            "Increase the number of iterations (max_iter) or scale the data as shown in:\n",
            "    https://scikit-learn.org/stable/modules/preprocessing.html\n",
            "Please also refer to the documentation for alternative solver options:\n",
            "    https://scikit-learn.org/stable/modules/linear_model.html#logistic-regression\n",
            "  n_iter_i = _check_optimize_result(\n"
          ]
        },
        {
          "data": {
            "text/html": [
              "<style>#sk-container-id-2 {\n",
              "  /* Definition of color scheme common for light and dark mode */\n",
              "  --sklearn-color-text: black;\n",
              "  --sklearn-color-line: gray;\n",
              "  /* Definition of color scheme for unfitted estimators */\n",
              "  --sklearn-color-unfitted-level-0: #fff5e6;\n",
              "  --sklearn-color-unfitted-level-1: #f6e4d2;\n",
              "  --sklearn-color-unfitted-level-2: #ffe0b3;\n",
              "  --sklearn-color-unfitted-level-3: chocolate;\n",
              "  /* Definition of color scheme for fitted estimators */\n",
              "  --sklearn-color-fitted-level-0: #f0f8ff;\n",
              "  --sklearn-color-fitted-level-1: #d4ebff;\n",
              "  --sklearn-color-fitted-level-2: #b3dbfd;\n",
              "  --sklearn-color-fitted-level-3: cornflowerblue;\n",
              "\n",
              "  /* Specific color for light theme */\n",
              "  --sklearn-color-text-on-default-background: var(--sg-text-color, var(--theme-code-foreground, var(--jp-content-font-color1, black)));\n",
              "  --sklearn-color-background: var(--sg-background-color, var(--theme-background, var(--jp-layout-color0, white)));\n",
              "  --sklearn-color-border-box: var(--sg-text-color, var(--theme-code-foreground, var(--jp-content-font-color1, black)));\n",
              "  --sklearn-color-icon: #696969;\n",
              "\n",
              "  @media (prefers-color-scheme: dark) {\n",
              "    /* Redefinition of color scheme for dark theme */\n",
              "    --sklearn-color-text-on-default-background: var(--sg-text-color, var(--theme-code-foreground, var(--jp-content-font-color1, white)));\n",
              "    --sklearn-color-background: var(--sg-background-color, var(--theme-background, var(--jp-layout-color0, #111)));\n",
              "    --sklearn-color-border-box: var(--sg-text-color, var(--theme-code-foreground, var(--jp-content-font-color1, white)));\n",
              "    --sklearn-color-icon: #878787;\n",
              "  }\n",
              "}\n",
              "\n",
              "#sk-container-id-2 {\n",
              "  color: var(--sklearn-color-text);\n",
              "}\n",
              "\n",
              "#sk-container-id-2 pre {\n",
              "  padding: 0;\n",
              "}\n",
              "\n",
              "#sk-container-id-2 input.sk-hidden--visually {\n",
              "  border: 0;\n",
              "  clip: rect(1px 1px 1px 1px);\n",
              "  clip: rect(1px, 1px, 1px, 1px);\n",
              "  height: 1px;\n",
              "  margin: -1px;\n",
              "  overflow: hidden;\n",
              "  padding: 0;\n",
              "  position: absolute;\n",
              "  width: 1px;\n",
              "}\n",
              "\n",
              "#sk-container-id-2 div.sk-dashed-wrapped {\n",
              "  border: 1px dashed var(--sklearn-color-line);\n",
              "  margin: 0 0.4em 0.5em 0.4em;\n",
              "  box-sizing: border-box;\n",
              "  padding-bottom: 0.4em;\n",
              "  background-color: var(--sklearn-color-background);\n",
              "}\n",
              "\n",
              "#sk-container-id-2 div.sk-container {\n",
              "  /* jupyter's `normalize.less` sets `[hidden] { display: none; }`\n",
              "     but bootstrap.min.css set `[hidden] { display: none !important; }`\n",
              "     so we also need the `!important` here to be able to override the\n",
              "     default hidden behavior on the sphinx rendered scikit-learn.org.\n",
              "     See: https://github.com/scikit-learn/scikit-learn/issues/21755 */\n",
              "  display: inline-block !important;\n",
              "  position: relative;\n",
              "}\n",
              "\n",
              "#sk-container-id-2 div.sk-text-repr-fallback {\n",
              "  display: none;\n",
              "}\n",
              "\n",
              "div.sk-parallel-item,\n",
              "div.sk-serial,\n",
              "div.sk-item {\n",
              "  /* draw centered vertical line to link estimators */\n",
              "  background-image: linear-gradient(var(--sklearn-color-text-on-default-background), var(--sklearn-color-text-on-default-background));\n",
              "  background-size: 2px 100%;\n",
              "  background-repeat: no-repeat;\n",
              "  background-position: center center;\n",
              "}\n",
              "\n",
              "/* Parallel-specific style estimator block */\n",
              "\n",
              "#sk-container-id-2 div.sk-parallel-item::after {\n",
              "  content: \"\";\n",
              "  width: 100%;\n",
              "  border-bottom: 2px solid var(--sklearn-color-text-on-default-background);\n",
              "  flex-grow: 1;\n",
              "}\n",
              "\n",
              "#sk-container-id-2 div.sk-parallel {\n",
              "  display: flex;\n",
              "  align-items: stretch;\n",
              "  justify-content: center;\n",
              "  background-color: var(--sklearn-color-background);\n",
              "  position: relative;\n",
              "}\n",
              "\n",
              "#sk-container-id-2 div.sk-parallel-item {\n",
              "  display: flex;\n",
              "  flex-direction: column;\n",
              "}\n",
              "\n",
              "#sk-container-id-2 div.sk-parallel-item:first-child::after {\n",
              "  align-self: flex-end;\n",
              "  width: 50%;\n",
              "}\n",
              "\n",
              "#sk-container-id-2 div.sk-parallel-item:last-child::after {\n",
              "  align-self: flex-start;\n",
              "  width: 50%;\n",
              "}\n",
              "\n",
              "#sk-container-id-2 div.sk-parallel-item:only-child::after {\n",
              "  width: 0;\n",
              "}\n",
              "\n",
              "/* Serial-specific style estimator block */\n",
              "\n",
              "#sk-container-id-2 div.sk-serial {\n",
              "  display: flex;\n",
              "  flex-direction: column;\n",
              "  align-items: center;\n",
              "  background-color: var(--sklearn-color-background);\n",
              "  padding-right: 1em;\n",
              "  padding-left: 1em;\n",
              "}\n",
              "\n",
              "\n",
              "/* Toggleable style: style used for estimator/Pipeline/ColumnTransformer box that is\n",
              "clickable and can be expanded/collapsed.\n",
              "- Pipeline and ColumnTransformer use this feature and define the default style\n",
              "- Estimators will overwrite some part of the style using the `sk-estimator` class\n",
              "*/\n",
              "\n",
              "/* Pipeline and ColumnTransformer style (default) */\n",
              "\n",
              "#sk-container-id-2 div.sk-toggleable {\n",
              "  /* Default theme specific background. It is overwritten whether we have a\n",
              "  specific estimator or a Pipeline/ColumnTransformer */\n",
              "  background-color: var(--sklearn-color-background);\n",
              "}\n",
              "\n",
              "/* Toggleable label */\n",
              "#sk-container-id-2 label.sk-toggleable__label {\n",
              "  cursor: pointer;\n",
              "  display: block;\n",
              "  width: 100%;\n",
              "  margin-bottom: 0;\n",
              "  padding: 0.5em;\n",
              "  box-sizing: border-box;\n",
              "  text-align: center;\n",
              "}\n",
              "\n",
              "#sk-container-id-2 label.sk-toggleable__label-arrow:before {\n",
              "  /* Arrow on the left of the label */\n",
              "  content: \"▸\";\n",
              "  float: left;\n",
              "  margin-right: 0.25em;\n",
              "  color: var(--sklearn-color-icon);\n",
              "}\n",
              "\n",
              "#sk-container-id-2 label.sk-toggleable__label-arrow:hover:before {\n",
              "  color: var(--sklearn-color-text);\n",
              "}\n",
              "\n",
              "/* Toggleable content - dropdown */\n",
              "\n",
              "#sk-container-id-2 div.sk-toggleable__content {\n",
              "  max-height: 0;\n",
              "  max-width: 0;\n",
              "  overflow: hidden;\n",
              "  text-align: left;\n",
              "  /* unfitted */\n",
              "  background-color: var(--sklearn-color-unfitted-level-0);\n",
              "}\n",
              "\n",
              "#sk-container-id-2 div.sk-toggleable__content.fitted {\n",
              "  /* fitted */\n",
              "  background-color: var(--sklearn-color-fitted-level-0);\n",
              "}\n",
              "\n",
              "#sk-container-id-2 div.sk-toggleable__content pre {\n",
              "  margin: 0.2em;\n",
              "  border-radius: 0.25em;\n",
              "  color: var(--sklearn-color-text);\n",
              "  /* unfitted */\n",
              "  background-color: var(--sklearn-color-unfitted-level-0);\n",
              "}\n",
              "\n",
              "#sk-container-id-2 div.sk-toggleable__content.fitted pre {\n",
              "  /* unfitted */\n",
              "  background-color: var(--sklearn-color-fitted-level-0);\n",
              "}\n",
              "\n",
              "#sk-container-id-2 input.sk-toggleable__control:checked~div.sk-toggleable__content {\n",
              "  /* Expand drop-down */\n",
              "  max-height: 200px;\n",
              "  max-width: 100%;\n",
              "  overflow: auto;\n",
              "}\n",
              "\n",
              "#sk-container-id-2 input.sk-toggleable__control:checked~label.sk-toggleable__label-arrow:before {\n",
              "  content: \"▾\";\n",
              "}\n",
              "\n",
              "/* Pipeline/ColumnTransformer-specific style */\n",
              "\n",
              "#sk-container-id-2 div.sk-label input.sk-toggleable__control:checked~label.sk-toggleable__label {\n",
              "  color: var(--sklearn-color-text);\n",
              "  background-color: var(--sklearn-color-unfitted-level-2);\n",
              "}\n",
              "\n",
              "#sk-container-id-2 div.sk-label.fitted input.sk-toggleable__control:checked~label.sk-toggleable__label {\n",
              "  background-color: var(--sklearn-color-fitted-level-2);\n",
              "}\n",
              "\n",
              "/* Estimator-specific style */\n",
              "\n",
              "/* Colorize estimator box */\n",
              "#sk-container-id-2 div.sk-estimator input.sk-toggleable__control:checked~label.sk-toggleable__label {\n",
              "  /* unfitted */\n",
              "  background-color: var(--sklearn-color-unfitted-level-2);\n",
              "}\n",
              "\n",
              "#sk-container-id-2 div.sk-estimator.fitted input.sk-toggleable__control:checked~label.sk-toggleable__label {\n",
              "  /* fitted */\n",
              "  background-color: var(--sklearn-color-fitted-level-2);\n",
              "}\n",
              "\n",
              "#sk-container-id-2 div.sk-label label.sk-toggleable__label,\n",
              "#sk-container-id-2 div.sk-label label {\n",
              "  /* The background is the default theme color */\n",
              "  color: var(--sklearn-color-text-on-default-background);\n",
              "}\n",
              "\n",
              "/* On hover, darken the color of the background */\n",
              "#sk-container-id-2 div.sk-label:hover label.sk-toggleable__label {\n",
              "  color: var(--sklearn-color-text);\n",
              "  background-color: var(--sklearn-color-unfitted-level-2);\n",
              "}\n",
              "\n",
              "/* Label box, darken color on hover, fitted */\n",
              "#sk-container-id-2 div.sk-label.fitted:hover label.sk-toggleable__label.fitted {\n",
              "  color: var(--sklearn-color-text);\n",
              "  background-color: var(--sklearn-color-fitted-level-2);\n",
              "}\n",
              "\n",
              "/* Estimator label */\n",
              "\n",
              "#sk-container-id-2 div.sk-label label {\n",
              "  font-family: monospace;\n",
              "  font-weight: bold;\n",
              "  display: inline-block;\n",
              "  line-height: 1.2em;\n",
              "}\n",
              "\n",
              "#sk-container-id-2 div.sk-label-container {\n",
              "  text-align: center;\n",
              "}\n",
              "\n",
              "/* Estimator-specific */\n",
              "#sk-container-id-2 div.sk-estimator {\n",
              "  font-family: monospace;\n",
              "  border: 1px dotted var(--sklearn-color-border-box);\n",
              "  border-radius: 0.25em;\n",
              "  box-sizing: border-box;\n",
              "  margin-bottom: 0.5em;\n",
              "  /* unfitted */\n",
              "  background-color: var(--sklearn-color-unfitted-level-0);\n",
              "}\n",
              "\n",
              "#sk-container-id-2 div.sk-estimator.fitted {\n",
              "  /* fitted */\n",
              "  background-color: var(--sklearn-color-fitted-level-0);\n",
              "}\n",
              "\n",
              "/* on hover */\n",
              "#sk-container-id-2 div.sk-estimator:hover {\n",
              "  /* unfitted */\n",
              "  background-color: var(--sklearn-color-unfitted-level-2);\n",
              "}\n",
              "\n",
              "#sk-container-id-2 div.sk-estimator.fitted:hover {\n",
              "  /* fitted */\n",
              "  background-color: var(--sklearn-color-fitted-level-2);\n",
              "}\n",
              "\n",
              "/* Specification for estimator info (e.g. \"i\" and \"?\") */\n",
              "\n",
              "/* Common style for \"i\" and \"?\" */\n",
              "\n",
              ".sk-estimator-doc-link,\n",
              "a:link.sk-estimator-doc-link,\n",
              "a:visited.sk-estimator-doc-link {\n",
              "  float: right;\n",
              "  font-size: smaller;\n",
              "  line-height: 1em;\n",
              "  font-family: monospace;\n",
              "  background-color: var(--sklearn-color-background);\n",
              "  border-radius: 1em;\n",
              "  height: 1em;\n",
              "  width: 1em;\n",
              "  text-decoration: none !important;\n",
              "  margin-left: 1ex;\n",
              "  /* unfitted */\n",
              "  border: var(--sklearn-color-unfitted-level-1) 1pt solid;\n",
              "  color: var(--sklearn-color-unfitted-level-1);\n",
              "}\n",
              "\n",
              ".sk-estimator-doc-link.fitted,\n",
              "a:link.sk-estimator-doc-link.fitted,\n",
              "a:visited.sk-estimator-doc-link.fitted {\n",
              "  /* fitted */\n",
              "  border: var(--sklearn-color-fitted-level-1) 1pt solid;\n",
              "  color: var(--sklearn-color-fitted-level-1);\n",
              "}\n",
              "\n",
              "/* On hover */\n",
              "div.sk-estimator:hover .sk-estimator-doc-link:hover,\n",
              ".sk-estimator-doc-link:hover,\n",
              "div.sk-label-container:hover .sk-estimator-doc-link:hover,\n",
              ".sk-estimator-doc-link:hover {\n",
              "  /* unfitted */\n",
              "  background-color: var(--sklearn-color-unfitted-level-3);\n",
              "  color: var(--sklearn-color-background);\n",
              "  text-decoration: none;\n",
              "}\n",
              "\n",
              "div.sk-estimator.fitted:hover .sk-estimator-doc-link.fitted:hover,\n",
              ".sk-estimator-doc-link.fitted:hover,\n",
              "div.sk-label-container:hover .sk-estimator-doc-link.fitted:hover,\n",
              ".sk-estimator-doc-link.fitted:hover {\n",
              "  /* fitted */\n",
              "  background-color: var(--sklearn-color-fitted-level-3);\n",
              "  color: var(--sklearn-color-background);\n",
              "  text-decoration: none;\n",
              "}\n",
              "\n",
              "/* Span, style for the box shown on hovering the info icon */\n",
              ".sk-estimator-doc-link span {\n",
              "  display: none;\n",
              "  z-index: 9999;\n",
              "  position: relative;\n",
              "  font-weight: normal;\n",
              "  right: .2ex;\n",
              "  padding: .5ex;\n",
              "  margin: .5ex;\n",
              "  width: min-content;\n",
              "  min-width: 20ex;\n",
              "  max-width: 50ex;\n",
              "  color: var(--sklearn-color-text);\n",
              "  box-shadow: 2pt 2pt 4pt #999;\n",
              "  /* unfitted */\n",
              "  background: var(--sklearn-color-unfitted-level-0);\n",
              "  border: .5pt solid var(--sklearn-color-unfitted-level-3);\n",
              "}\n",
              "\n",
              ".sk-estimator-doc-link.fitted span {\n",
              "  /* fitted */\n",
              "  background: var(--sklearn-color-fitted-level-0);\n",
              "  border: var(--sklearn-color-fitted-level-3);\n",
              "}\n",
              "\n",
              ".sk-estimator-doc-link:hover span {\n",
              "  display: block;\n",
              "}\n",
              "\n",
              "/* \"?\"-specific style due to the `<a>` HTML tag */\n",
              "\n",
              "#sk-container-id-2 a.estimator_doc_link {\n",
              "  float: right;\n",
              "  font-size: 1rem;\n",
              "  line-height: 1em;\n",
              "  font-family: monospace;\n",
              "  background-color: var(--sklearn-color-background);\n",
              "  border-radius: 1rem;\n",
              "  height: 1rem;\n",
              "  width: 1rem;\n",
              "  text-decoration: none;\n",
              "  /* unfitted */\n",
              "  color: var(--sklearn-color-unfitted-level-1);\n",
              "  border: var(--sklearn-color-unfitted-level-1) 1pt solid;\n",
              "}\n",
              "\n",
              "#sk-container-id-2 a.estimator_doc_link.fitted {\n",
              "  /* fitted */\n",
              "  border: var(--sklearn-color-fitted-level-1) 1pt solid;\n",
              "  color: var(--sklearn-color-fitted-level-1);\n",
              "}\n",
              "\n",
              "/* On hover */\n",
              "#sk-container-id-2 a.estimator_doc_link:hover {\n",
              "  /* unfitted */\n",
              "  background-color: var(--sklearn-color-unfitted-level-3);\n",
              "  color: var(--sklearn-color-background);\n",
              "  text-decoration: none;\n",
              "}\n",
              "\n",
              "#sk-container-id-2 a.estimator_doc_link.fitted:hover {\n",
              "  /* fitted */\n",
              "  background-color: var(--sklearn-color-fitted-level-3);\n",
              "}\n",
              "</style><div id=\"sk-container-id-2\" class=\"sk-top-container\"><div class=\"sk-text-repr-fallback\"><pre>LogisticRegression()</pre><b>In a Jupyter environment, please rerun this cell to show the HTML representation or trust the notebook. <br />On GitHub, the HTML representation is unable to render, please try loading this page with nbviewer.org.</b></div><div class=\"sk-container\" hidden><div class=\"sk-item\"><div class=\"sk-estimator fitted sk-toggleable\"><input class=\"sk-toggleable__control sk-hidden--visually\" id=\"sk-estimator-id-2\" type=\"checkbox\" checked><label for=\"sk-estimator-id-2\" class=\"sk-toggleable__label fitted sk-toggleable__label-arrow fitted\">&nbsp;&nbsp;LogisticRegression<a class=\"sk-estimator-doc-link fitted\" rel=\"noreferrer\" target=\"_blank\" href=\"https://scikit-learn.org/1.4/modules/generated/sklearn.linear_model.LogisticRegression.html\">?<span>Documentation for LogisticRegression</span></a><span class=\"sk-estimator-doc-link fitted\">i<span>Fitted</span></span></label><div class=\"sk-toggleable__content fitted\"><pre>LogisticRegression()</pre></div> </div></div></div></div>"
            ],
            "text/plain": [
              "LogisticRegression()"
            ]
          },
          "execution_count": 59,
          "metadata": {},
          "output_type": "execute_result"
        }
      ],
      "source": [
        "##Your code here\n",
        "linearModel = LogisticRegression()\n",
        "linearModel.fit(x_train, y_train)"
      ]
    },
    {
      "cell_type": "code",
      "execution_count": 60,
      "metadata": {},
      "outputs": [
        {
          "name": "stdout",
          "output_type": "stream",
          "text": [
            "61\n",
            "13\n"
          ]
        }
      ],
      "source": [
        "print(len(x_test))\n",
        "print(len(x_test[1]))"
      ]
    },
    {
      "cell_type": "markdown",
      "metadata": {
        "id": "T6s2wFcZddM-"
      },
      "source": [
        "#### **Q18**) [[5 points]](https://) Use the .predict_proba function of the logistic regression model that you have learned on your X_test. Note that the .predict_proba function returns an array of tuples where each element corresponds to the predicted probability for class 0 and 1 of the data point."
      ]
    },
    {
      "cell_type": "code",
      "execution_count": 61,
      "metadata": {
        "id": "8rn-IGCKddNC"
      },
      "outputs": [
        {
          "data": {
            "text/plain": [
              "array([[0.88146518, 0.11853482],\n",
              "       [0.23209424, 0.76790576]])"
            ]
          },
          "execution_count": 61,
          "metadata": {},
          "output_type": "execute_result"
        }
      ],
      "source": [
        "##Your code here\n",
        "predictions = linearModel.predict_proba(x_test)\n",
        "predictions[:2,:]"
      ]
    },
    {
      "cell_type": "markdown",
      "metadata": {
        "id": "42_V2SDaddNC"
      },
      "source": [
        "#### **Q19**) [[2 points]](https://) Filter the predicted probabilties from the last question to an array containing only the probabilites for class 1. I.e., you should no longer have tuples."
      ]
    },
    {
      "cell_type": "code",
      "execution_count": 62,
      "metadata": {
        "id": "309-ZJSZddNC"
      },
      "outputs": [],
      "source": [
        "##Your code here\n",
        "class1_predictions = predictions[:,1]"
      ]
    },
    {
      "cell_type": "markdown",
      "metadata": {
        "id": "W1ckgSiNddND"
      },
      "source": [
        "#### **Q20**) [[8 points]](https://) Use the roc_curve function from sklearn (https://scikit-learn.org/stable/modules/generated/sklearn.metrics.roc_curve.html) to plot the ROC curve for your predictions using the predicted probabilities for class 1 and your y_test (use the default parameters). Also, print out the thresholds generated by the roc_curve function."
      ]
    },
    {
      "cell_type": "code",
      "execution_count": 63,
      "metadata": {
        "id": "BBJA8YA0ddND"
      },
      "outputs": [],
      "source": [
        "from sklearn import metrics \n",
        "##Your code here\n",
        "fpr, tpr, thresholds = metrics.roc_curve(y_test, class1_predictions)\n"
      ]
    },
    {
      "cell_type": "code",
      "execution_count": 64,
      "metadata": {},
      "outputs": [
        {
          "data": {
            "text/plain": [
              "Text(0, 0.5, 'True Positive rate')"
            ]
          },
          "execution_count": 64,
          "metadata": {},
          "output_type": "execute_result"
        },
        {
          "data": {
            "image/png": "[encoded data removed]",
            "text/plain": [
              "<Figure size 640x480 with 1 Axes>"
            ]
          },
          "metadata": {},
          "output_type": "display_data"
        }
      ],
      "source": [
        "plt.plot(fpr, tpr)\n",
        "plt.xlabel(\"False Positive rate\")\n",
        "plt.ylabel(\"True Positive rate\")"
      ]
    },
    {
      "cell_type": "code",
      "execution_count": 65,
      "metadata": {},
      "outputs": [
        {
          "data": {
            "text/plain": [
              "array([           inf, 9.81177902e-01, 9.05782176e-01, 8.94163787e-01,\n",
              "       8.02648548e-01, 7.98970702e-01, 7.92128786e-01, 7.67905761e-01,\n",
              "       6.76945818e-01, 6.66830930e-01, 5.34465442e-01, 8.22375671e-02,\n",
              "       8.01354457e-02, 7.77908341e-02, 7.25905768e-02, 5.18366783e-02,\n",
              "       4.69066324e-02, 9.13585673e-04])"
            ]
          },
          "execution_count": 65,
          "metadata": {},
          "output_type": "execute_result"
        }
      ],
      "source": [
        "thresholds"
      ]
    },
    {
      "cell_type": "markdown",
      "metadata": {
        "id": "7t7ougeLddND"
      },
      "source": [
        "#### **Q21**) [[2 points]](https://) Use the roc_auc_score function from sklearn (https://scikit-learn.org/stable/modules/generated/sklearn.metrics.roc_auc_score.html#sklearn.metrics.roc_auc_score) to report the AUC score using the exact same setup as the last question."
      ]
    },
    {
      "cell_type": "code",
      "execution_count": 66,
      "metadata": {
        "id": "4jh8bffvddND"
      },
      "outputs": [
        {
          "data": {
            "text/plain": [
              "0.9267241379310345"
            ]
          },
          "execution_count": 66,
          "metadata": {},
          "output_type": "execute_result"
        }
      ],
      "source": [
        "##Your code here\n",
        "metrics.roc_auc_score(y_test, class1_predictions)"
      ]
    },
    {
      "cell_type": "code",
      "execution_count": null,
      "metadata": {},
      "outputs": [],
      "source": []
    }
  ],
  "metadata": {
    "colab": {
      "provenance": []
    },
    "kernelspec": {
      "display_name": "Python 3 (ipykernel)",
      "language": "python",
      "name": "python3"
    },
    "language_info": {
      "codemirror_mode": {
        "name": "ipython",
        "version": 3
      },
      "file_extension": ".py",
      "mimetype": "text/x-python",
      "name": "python",
      "nbconvert_exporter": "python",
      "pygments_lexer": "ipython3",
      "version": "3.11.5"
    }
  },
  "nbformat": 4,
  "nbformat_minor": 0
}
