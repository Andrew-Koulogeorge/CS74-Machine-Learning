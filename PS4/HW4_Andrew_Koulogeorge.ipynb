{
  "cells": [
    {
      "cell_type": "markdown",
      "metadata": {
        "id": "NTWSmOwtddM0"
      },
      "source": [
        "# HW4 Multi-Class Classification (Due: Thursday, February 29, 2024, 11:59 PM)"
      ]
    },
    {
      "cell_type": "markdown",
      "metadata": {
        "id": "AP2DeJOGddM2"
      },
      "source": [
        "####❗Please submit this notebook (`.ipynb`) with your solutions. The solutions must include the **code**, **explanations** (e.g. *comments*, *figure title, axis labels, and legend*), and the **output of all the cells**. Submitting your solutions without them will lead to `a deduction of points`.\n",
        "\n",
        "####❗Also, note that you should **cite all the references** you used under each question. Proper referencing is essential for academic integrity, giving credit to original authors, avoiding plagiarism, and providing a traceable path for verification. `Please check the course syllabus for more details about academic integrity`.\n",
        "\n",
        "####❗Note that you are *not* allowed to use sklearn unless specified by the question.\n",
        "\n",
        "####❗Please note that the bonus points will be applied to your overall percentage of the course.\n",
        "---"
      ]
    },
    {
      "cell_type": "markdown",
      "metadata": {
        "id": "4D1KyDVYddM3"
      },
      "source": [
        "#### **Q0)** [[0 point]](https://) While you are allowed to discuss homework assignments, it is essential that you write down your code and solutions yourself. If you have discussed the homework with other students, please mention their names.\n"
      ]
    },
    {
      "cell_type": "markdown",
      "metadata": {
        "id": "wGKyrB_1KV8J"
      },
      "source": [
        "\\##Your answer here"
      ]
    },
    {
      "cell_type": "markdown",
      "metadata": {
        "id": "j0Yhv6bTddM4"
      },
      "source": [
        "####Please run the cell below to import libraries needed for this HW. Please use the autograd numpy, otherwise you will have issues. Please remember to always use the np library for mathematical functions (e.g., np.log, np.exp, np.sum, etc)"
      ]
    },
    {
      "cell_type": "code",
      "execution_count": 35,
      "metadata": {
        "id": "zu-X5y1jddM4"
      },
      "outputs": [],
      "source": [
        "import autograd.numpy as np\n",
        "from autograd import grad\n",
        "import matplotlib.pyplot as plt"
      ]
    },
    {
      "cell_type": "markdown",
      "metadata": {
        "id": "0n6XqvuMOaBw"
      },
      "source": [
        "#### Please load the MNIST digits classification dataset by running the code below. There are 70,000 samples in the dataset where each sample is represented by a 784-dimensional feature vector. (Reference: https://www.openml.org/d/554)\n",
        "\n",
        "\n"
      ]
    },
    {
      "cell_type": "code",
      "execution_count": 36,
      "metadata": {
        "id": "FDTG70hl4oWt"
      },
      "outputs": [
        {
          "name": "stdout",
          "output_type": "stream",
          "text": [
            "(70000, 784)\n",
            "(70000,)\n"
          ]
        }
      ],
      "source": [
        "from sklearn.datasets import fetch_openml\n",
        "X, y = fetch_openml(\"mnist_784\", version=1, return_X_y=True, as_frame=False)\n",
        "print(X.shape)\n",
        "print(y.shape)"
      ]
    },
    {
      "cell_type": "markdown",
      "metadata": {
        "id": "XMvPHxUZOubj"
      },
      "source": [
        "#### Run the code below to divide the data into train/test sets."
      ]
    },
    {
      "cell_type": "code",
      "execution_count": 37,
      "metadata": {
        "id": "FHLg-QBA0kZA"
      },
      "outputs": [
        {
          "name": "stdout",
          "output_type": "stream",
          "text": [
            "(10000, 784)\n",
            "(2000, 784)\n"
          ]
        }
      ],
      "source": [
        "from sklearn.model_selection import train_test_split\n",
        "X_train, X_test, y_train, y_test = train_test_split(X, y, train_size=10000, test_size=2000, random_state=1)\n",
        "y_train = y_train.astype(\"int\")\n",
        "y_test = y_test.astype(\"int\")\n",
        "print(X_train.shape)\n",
        "print(X_test.shape)"
      ]
    },
    {
      "cell_type": "markdown",
      "metadata": {
        "id": "naA_gNyANCUh"
      },
      "source": [
        "# $k$ Nearest Neighbors ($k$-NN) Classifier\n",
        "\n"
      ]
    },
    {
      "cell_type": "markdown",
      "metadata": {
        "id": "atvctf4WP22O"
      },
      "source": [
        "#### **Q1**) [[30 points]](https://) Implement a $k$-Nearest Neighbors classifier *from scratch*. You are free to code this up in your preferred style. However, make sure that your implementation includes a function that takes an array of feature vectors for the training set, the corresponding class labels, an array of feature vectors for the test set, and the number of nearest neighbors, $k$. The function should return an array of predicted labels for the input test data. Make sure you explain in detail about your implmenetaion."
      ]
    },
    {
      "cell_type": "code",
      "execution_count": 38,
      "metadata": {
        "id": "TXMQiJ9i608R"
      },
      "outputs": [],
      "source": [
        "# after you finish the hw, go back and do this without a loop\n",
        "def knn_classifier(X_train, y_train, X_test, k, metric=\"L2\"):\n",
        "  \"\"\"\n",
        "  input parameters (All numpy arrays):\n",
        "\n",
        "    X_train, X_test: n x d matrix where n is the number of training examples in the training set and d is the dimentionality of the features\n",
        "    y_train: n dim vector with values 0-9 for the ground truth class of the handwritten digit\n",
        "    k: Hyperparameter representing the number of closest examples in the training dataset we will consider for doing prediction\n",
        "\n",
        "  output:\n",
        "    y_pred: for each of the examples in the test set, we will compute the k nearest points from the training set and take a majority vote based on the class of the training examples\n",
        "\n",
        "  \"\"\"\n",
        "  # ensure that all of the inputs are numpy arrays\n",
        "  X_train = np.array(X_train)\n",
        "  X_test = np.array(X_test)\n",
        "  y_train = np.array(y_train)\n",
        "  y_predicted = [] # array to hold predictions\n",
        "\n",
        "  # want to compute the distance between each example in X_train and X_test\n",
        "\n",
        "\n",
        "  # distances = X_train[np.newaxis, :, :] - X_test[:, np.newaxis, :]\n",
        "\n",
        "  for test_example in X_test: # considering all examples in the test set\n",
        "\n",
        "    distances = np.sqrt((np.sum((X_train - test_example) ** 2, axis=1))) # compute distance between this test example and all training examples\n",
        "    closest_k = np.argsort(distances)[:k] # compute the index of the k nearest points in the training set\n",
        "    votes = y_train[closest_k].astype(int) # get the labels for those k points from the training set and cast them to be integers\n",
        "    majority_vote = np.argmax(np.bincount(votes)) # compute the mode for the votes and return it\n",
        "    y_predicted.append(majority_vote) # add the prediction to the list of predictions\n",
        "\n",
        "  y_pred = np.array(y_predicted)\n",
        "  \n",
        "  return y_pred"
      ]
    },
    {
      "cell_type": "markdown",
      "metadata": {
        "id": "FePjGak1QzuP"
      },
      "source": [
        "#### **Q2**) [[15 points]](https://) Implement a function to calcluate the accuracy for a multi-class classification model *from scratch*. Given predicted labels and true labels, your function should return the accuracy."
      ]
    },
    {
      "cell_type": "code",
      "execution_count": 39,
      "metadata": {
        "id": "DYPjwEw6_xMj"
      },
      "outputs": [],
      "source": [
        "def calculate_accuracy(y_pred, y_true):\n",
        "  \"\"\"\n",
        "  Function to compute the accuracy between predictions and ground truth labels\n",
        "\n",
        "  inputs:\n",
        "    -y_pred: vector of model predictions\n",
        "    -y_true: vector of ground truth\n",
        "  \n",
        "    output:\n",
        "      -accuracy: floating point number representing how many our model got correct\n",
        "  \"\"\"\n",
        "  y_pred = np.array(y_pred)\n",
        "  y_true = np.array(y_true).astype(int) # casting type to be int for the labels\n",
        "  \n",
        "  accuracy = np.sum(y_pred == y_true)/len(y_pred) # number of equal predictions / total examples\n",
        "\n",
        "  return accuracy"
      ]
    },
    {
      "cell_type": "markdown",
      "metadata": {
        "id": "5qTnv2CpRKdu"
      },
      "source": [
        "#### **Q3**) [[5 points]](https://) Given $k$=3, calculate the accuracy of the test set using the function implemented in Q2.\n"
      ]
    },
    {
      "cell_type": "code",
      "execution_count": 40,
      "metadata": {
        "id": "VuQqKi-LMZH5"
      },
      "outputs": [
        {
          "data": {
            "text/plain": [
              "0.943"
            ]
          },
          "execution_count": 40,
          "metadata": {},
          "output_type": "execute_result"
        }
      ],
      "source": [
        "#Your code here\n",
        "calculate_accuracy(knn_classifier(X_train, y_train, X_test=X_test, k=3), y_test)"
      ]
    },
    {
      "cell_type": "markdown",
      "metadata": {
        "id": "iPtuZnmeessH"
      },
      "source": [
        "# Naive Bayes Classifier\n"
      ]
    },
    {
      "cell_type": "markdown",
      "metadata": {
        "id": "diy76183O7uU"
      },
      "source": [
        "#### **Q4**) [[60 points]](https://) Implement both a Multinomial Naive Bayes classifier with Laplace smoothing [30 points] and a Gaussian Naive Bayes classifier [30 points] *from scratch*. To prevent everything from becoming zeros, consider adding logs instead of multiplying. You are free to code this up in your preferred style, but you should explain in detail about your implmenetaion."
      ]
    },
    {
      "cell_type": "code",
      "execution_count": 44,
      "metadata": {
        "id": "3ypXKf4WCDuw"
      },
      "outputs": [],
      "source": [
        "# Multinomial Naive Bayes w/ smoothing\n",
        "\n",
        "class NaiveBayesClassifier:\n",
        "\n",
        "    def __init__(self, X_train, y_train, type=\"Multinomial\") -> None:\n",
        "        \"\"\"\n",
        "        - Constructor for our Naive Bayes classifier.\n",
        "        - Given the training dataset, we want to construct for each feature (in the MNIST case 784 features which can take values between [0-255] integers) the probability that it \n",
        "        takes on a particular value.\n",
        "        - We wish to construct num_classes of matricies (P0, P1, ... P9) where each matrix (d x num_possible_values) for each of the features where P[i][j] is the probability that \n",
        "        feature i gets value j\n",
        "        - Also want to construct a vector y where y[i] is the number of examples in class i\n",
        "\n",
        "        inputs:\n",
        "            - X_train: Training dataset (n x d)\n",
        "            - y_train: Labels for the training data (n,)\n",
        "\n",
        "        \"\"\"\n",
        "        self.NUM_CLASSES = 10\n",
        "        NUM_EXAMPLES = len(X_train)\n",
        "        NUM_FEATURES = X_train.shape[1]\n",
        "\n",
        "        self.Y_container = []\n",
        "        self.P = np.zeros((self.NUM_CLASSES, NUM_FEATURES)) # construct probs from counts for this (10 x 784)\n",
        "\n",
        "        self.Ymean = []\n",
        "        self.Yvar = []\n",
        "\n",
        "        for y in range(self.NUM_CLASSES): # loop over all 10 handwritten digit labels\n",
        "            \n",
        "            indexs = np.where(y_train == y)[0] # indexs of examples with labels\n",
        "            count_y = len(indexs) # number of examples of this class\n",
        "            \n",
        "            P_y = (count_y + 1)/(NUM_EXAMPLES + self.NUM_CLASSES) # probability of an example being in class y\n",
        "            self.Y_container.append(P_y) # add for later computation\n",
        "\n",
        "            train_subset_y = X_train[indexs] # matrix of examples with labels y\n",
        "            counter_y = np.zeros(NUM_FEATURES) # count how many features got non zeros\n",
        "\n",
        "\n",
        "            if type == \"Multinomial\": # Multinomial Naive Bayes\n",
        "                \n",
        "                # construct the counts\n",
        "                for example in train_subset_y: # consider each example in subset (when Y = y)\n",
        "                    \n",
        "                    for x_i, c_i in enumerate(example): # consider each feature in the example \n",
        "                        if c_i == 1: counter_y[x_i] += 1\n",
        "\n",
        "                for x_i in range(NUM_FEATURES): # looping over all possible features\n",
        "                        # sklearn assumption --> How many of the features are non zero i this class?\n",
        "                        self.P[y][x_i] = (counter_y[x_i] + 1) / (train_subset_y.sum() + self.NUM_CLASSES + 1e-9)\n",
        "                        # self.P[y][x_i] = (counter_y[x_i] + 1) / (count_y + self.NUM_CLASSES + 1e-9)\n",
        "            \n",
        "            \n",
        "            elif type == \"Gaussian\": #Gaussian Naive Bayes\n",
        "                feature_means = np.mean(train_subset_y, axis=0) # mean of every feature for this class\n",
        "                feature_var = np.var(train_subset_y, axis=0) + 1e-9 # variance of every feature of this class\n",
        "                \n",
        "                self.Ymean.append(feature_means)\n",
        "                self.Yvar.append(feature_var)\n",
        "\n",
        "    def inference(self, X_test, type):\n",
        "        \"\"\"\n",
        "        After computing the probs based on the training data, we want to compute the class that maximizes our posterior\n",
        "        \"\"\"\n",
        "        predictions = np.zeros(X_test.shape[0])\n",
        "        for example_index, example in enumerate(X_test): # loop over all the examples at test time\n",
        "\n",
        "            largest_prob_so_far = float(\"-inf\")\n",
        "            class_so_far = -1\n",
        "\n",
        "            for y in range(self.NUM_CLASSES): # consider all classes this example could be in\n",
        "                \n",
        "                curr_probs = np.log(self.Y_container[y])\n",
        "                \n",
        "                for x_i, c_i in enumerate(example): # looping over each feature in this example\n",
        "                    \n",
        "                    if type == \"Multinomial\":\n",
        "\n",
        "                        if c_i == 1:\n",
        "                            curr_probs += np.log(self.P[y][x_i]) # summing the log probabilities over each element of the example \n",
        "\n",
        "                    elif type == \"Gaussian\":\n",
        "                        curr_probs += -0.5 * np.log(2 * np.pi * self.Yvar[y][x_i])  - ((c_i - self.Ymean[y][x_i]) ** 2) / (2*self.Yvar[y][x_i])\n",
        "\n",
        "                # print(curr_probs)\n",
        "                if curr_probs > largest_prob_so_far: # if this class is more prob than others, update\n",
        "                    class_so_far = y\n",
        "                    largest_prob_so_far = curr_probs\n",
        "            \n",
        "        \n",
        "            predictions[example_index] = class_so_far\n",
        "        \n",
        "        return predictions"
      ]
    },
    {
      "cell_type": "markdown",
      "metadata": {},
      "source": [
        "#### **Q5**) [[10 points]](https://) Calculate the accuracy of the test set using both of the Naive Bayes classifiers you implemented in Q4. Use the function you implemented in Q2 to obtain the accuracies."
      ]
    },
    {
      "cell_type": "code",
      "execution_count": 42,
      "metadata": {},
      "outputs": [
        {
          "data": {
            "text/plain": [
              "0.833"
            ]
          },
          "execution_count": 42,
          "metadata": {},
          "output_type": "execute_result"
        }
      ],
      "source": [
        "from sklearn.naive_bayes import MultinomialNB\n",
        "mnb = MultinomialNB()\n",
        "y_pred = mnb.fit(X_train, y_train).predict(X_test)\n",
        "calculate_accuracy(y_pred=y_pred, y_true=y_test)"
      ]
    },
    {
      "cell_type": "code",
      "execution_count": 45,
      "metadata": {},
      "outputs": [
        {
          "data": {
            "text/plain": [
              "0.811"
            ]
          },
          "execution_count": 45,
          "metadata": {},
          "output_type": "execute_result"
        }
      ],
      "source": [
        "X_train[X_train != 0] = 1\n",
        "X_test[X_test != 0] = 1\n",
        "nb = NaiveBayesClassifier(X_train, y_train, type=\"Multinomial\")\n",
        "preds = nb.inference(X_test,type=\"Multinomial\")\n",
        "calculate_accuracy(y_pred=preds, y_true=y_test)"
      ]
    },
    {
      "cell_type": "code",
      "execution_count": 46,
      "metadata": {},
      "outputs": [
        {
          "name": "stdout",
          "output_type": "stream",
          "text": [
            "(10000, 784)\n",
            "(2000, 784)\n"
          ]
        }
      ],
      "source": [
        "from sklearn.model_selection import train_test_split\n",
        "X_train, X_test, y_train, y_test = train_test_split(X, y, train_size=10000, test_size=2000, random_state=1)\n",
        "y_train = y_train.astype(\"int\")\n",
        "y_test = y_test.astype(\"int\")\n",
        "print(X_train.shape)\n",
        "print(X_test.shape)"
      ]
    },
    {
      "cell_type": "code",
      "execution_count": 47,
      "metadata": {},
      "outputs": [
        {
          "data": {
            "text/plain": [
              "0.604"
            ]
          },
          "execution_count": 47,
          "metadata": {},
          "output_type": "execute_result"
        }
      ],
      "source": [
        "from sklearn.naive_bayes import GaussianNB\n",
        "gnb = GaussianNB()\n",
        "y_pred = gnb.fit(X_train, y_train).predict(X_test)\n",
        "calculate_accuracy(y_pred=y_pred, y_true=y_test)"
      ]
    },
    {
      "cell_type": "code",
      "execution_count": 48,
      "metadata": {},
      "outputs": [
        {
          "data": {
            "text/plain": [
              "0.5465"
            ]
          },
          "execution_count": 48,
          "metadata": {},
          "output_type": "execute_result"
        }
      ],
      "source": [
        "# unsure about this one!\n",
        "nb = NaiveBayesClassifier(X_train, y_train, type=\"Gaussian\")\n",
        "preds = nb.inference(X_test, type=\"Gaussian\")\n",
        "calculate_accuracy(y_pred=preds, y_true=y_test)"
      ]
    },
    {
      "cell_type": "markdown",
      "metadata": {
        "id": "LZE_rteyUTjR"
      },
      "source": [
        "#### **Q6**) [[10 points]](https://) Compare the performance of the three classifiers ($k$-NN, Multinomial Naive Bayes, Gaussian Naive Bayes). Which classifier performs the best? Provide a detailed explanation of your conclusion. Make sure that the comparison is based on the same train/test splits."
      ]
    },
    {
      "cell_type": "markdown",
      "metadata": {
        "id": "3zjAE1YXUWhT"
      },
      "source": [
        "K-nn performed the strongest among the classifers, then Multinomial NB, then Gaussian NB."
      ]
    },
    {
      "cell_type": "markdown",
      "metadata": {
        "id": "FgeKbUPNNj5L"
      },
      "source": [
        "# Support Vector Classifier\n"
      ]
    },
    {
      "cell_type": "markdown",
      "metadata": {
        "id": "-Gwl49bpV7P9"
      },
      "source": [
        "#### **Q7**) [[***BONUS*** 0.5%]](https://) Train 10 one-versus-all binary classifiers using the soft-margin SVM cost function and the gradient descent function. You may need to revise your gradient descent function for this task. Randomly initialize all model parameters with a normal distribution having a mean of 0 and a standard deviation of 0.01. Then, train each classifier with `max_its=1000` and `alpha=0.0001`. Consider implementing a sampling strategy to deal with an imbalanced dataset. Set your regularization parameter to 1.0. Save the cost and weight history returned by the gradient descent function. Plot the cost history for the 10 binary classifiers into a single plot.\n",
        "\n",
        "\n",
        "\n"
      ]
    },
    {
      "cell_type": "code",
      "execution_count": null,
      "metadata": {
        "id": "LNjl_oPOMdJv"
      },
      "outputs": [],
      "source": [
        "def SVM(X, y, digit, hinge_loss, max_iters=1000, lr=0.00001, lmbda=1):\n",
        "    \n",
        "    # update labels of the test dataset to be 1 for the class for digit and -1 otherwise\n",
        "    y_binary= np.where(y == digit, 1, -1)\n",
        "        \n",
        "    # Initialize weights\n",
        "    w = np.random.normal(0, 0.01, X.shape[1]) # number of weights equal to the number of features \n",
        "    b = np.random.normal(0, 0.01) \n",
        "\n",
        "    weight_history = [(w,b)]\n",
        "    cost_history = []\n",
        "\n",
        "    for _ in range(max_iters):\n",
        "        margin = y_binary*(b + X @ w )\n",
        "        loss = hinge_loss(margin, w, lmbda)\n",
        "        cost_history.append(loss)\n",
        "\n",
        "        misclassified = margin < 1 # binary mask for where the model did not get sufficent margin on\n",
        "\n",
        "        # np.where --> (condition, if true, if false)\n",
        "        dW = np.mean(np.where(misclassified[:, np.newaxis], -y_binary[:, np.newaxis] * X, 0), axis=0) + 2 * lmbda * w\n",
        "        dB = np.mean(np.where(misclassified, -y_binary, 0))\n",
        "\n",
        "        # update each parameter\n",
        "        w -= lr * dW\n",
        "        b -= lr * dB\n",
        "\n",
        "        # update weight history\n",
        "        weight_history.append((w,b))\n",
        "        \n",
        "    return w, b, cost_history\n",
        "\n",
        "def hinge_loss(margin, w, lmbda):\n",
        "\n",
        "    return np.mean(np.maximum(0, 1-margin)) + lmbda * np.dot(w,w)\n"
      ]
    },
    {
      "cell_type": "code",
      "execution_count": null,
      "metadata": {},
      "outputs": [
        {
          "name": "stdout",
          "output_type": "stream",
          "text": [
            "Cost of classifer for class 0: 0.25386123386359294\n",
            "Cost of classifer for class 1: 0.17274911503260726\n",
            "Cost of classifer for class 2: 0.35603350876087503\n",
            "Cost of classifer for class 3: 0.38629657048093696\n",
            "Cost of classifer for class 4: 0.27946277396059827\n",
            "Cost of classifer for class 5: 0.4086799292562713\n",
            "Cost of classifer for class 6: 0.24531894908877616\n",
            "Cost of classifer for class 7: 0.2472451436996645\n",
            "Cost of classifer for class 8: 0.5295653104874203\n",
            "Cost of classifer for class 9: 0.3981672309981447\n"
          ]
        },
        {
          "data": {
            "image/png": "[encoded data removed]",
            "text/plain": [
              "<Figure size 640x480 with 1 Axes>"
            ]
          },
          "metadata": {},
          "output_type": "display_data"
        }
      ],
      "source": [
        "learned_binary_classifers = []\n",
        "for i in range(10):\n",
        "    w, b, cost_history = SVM(X_train, y_train, digit=i, hinge_loss=hinge_loss)\n",
        "    learned_binary_classifers.append((w,b))\n",
        "    print(f\"Cost of classifer for class {i}: {cost_history[-1]}\")\n",
        "    plt.plot(cost_history, label=f'Line {i+1}')\n",
        "\n",
        "plt.title('Loss for SVM binary classification ')\n",
        "plt.xlabel('Iterations')\n",
        "plt.ylabel('Loss')\n",
        "plt.legend()  # Show legend to identify each line\n",
        "\n",
        "plt.grid(True)  # Optional: Add a grid for easier visualization\n",
        "plt.tight_layout()  # Adjust the layout to make room for the legend\n",
        "plt.show()\n",
        "\n"
      ]
    },
    {
      "cell_type": "markdown",
      "metadata": {
        "id": "Fr8KK7IeWXfe"
      },
      "source": [
        "#### **Q8**) [[***BONUS*** 0.4%]](https://) Implement the one-versus-all multiway classifier using the binary classifiers you implemented above. You are free to code this up in your preferred style. However, make sure that your implementation includes a function that takes an array of feature vectors for the test set and an array of learned model parameters. This classifier should return an array of predicted labels for the input test data."
      ]
    },
    {
      "cell_type": "code",
      "execution_count": null,
      "metadata": {
        "id": "FrAeXJ5IEuXN"
      },
      "outputs": [],
      "source": [
        "def fusion_rule(x, w, b):\n",
        "  return (b + np.dot(x.T, w)) / (np.dot(w,w))\n",
        "\n",
        "\n",
        "def one_versus_all_classifier(X_test, w):\n",
        "  y_test = np.zeros(X_test.shape[0])\n",
        "\n",
        "  for example_num, x in enumerate(X_test): # loop over each example in the test example\n",
        "\n",
        "    label_so_far = -1\n",
        "    curr_max_dist = 0\n",
        "\n",
        "    # loop over all the learned models for the different classes\n",
        "    for label, (w,b) in enumerate(learned_binary_classifers):\n",
        "      # compute the max signed distance\n",
        "      max_dist = fusion_rule(x, w, b)\n",
        "\n",
        "      if max_dist > curr_max_dist:\n",
        "        curr_max_dist = max_dist\n",
        "        label_so_far = label\n",
        "\n",
        "    y_test[example_num] = label_so_far\n",
        "\n",
        "\n",
        "  return y_test"
      ]
    },
    {
      "cell_type": "code",
      "execution_count": null,
      "metadata": {},
      "outputs": [],
      "source": [
        "preds = one_versus_all_classifier(X_test, learned_binary_classifers)"
      ]
    },
    {
      "cell_type": "markdown",
      "metadata": {
        "id": "rL7jHdlLXjZB"
      },
      "source": [
        "#### **Q9**) [[***BONUS*** 0.1%]](https://) Calculate the accuracy of the test set using your one-versus-all classifier implemented above. Use the function implemented in Q2.\n",
        "\n"
      ]
    },
    {
      "cell_type": "code",
      "execution_count": null,
      "metadata": {
        "id": "zva2QpchMeQE"
      },
      "outputs": [
        {
          "data": {
            "text/plain": [
              "0.771"
            ]
          },
          "execution_count": 29,
          "metadata": {},
          "output_type": "execute_result"
        }
      ],
      "source": [
        "#Your code here\n",
        "calculate_accuracy(preds, y_test)"
      ]
    },
    {
      "cell_type": "code",
      "execution_count": null,
      "metadata": {},
      "outputs": [],
      "source": []
    }
  ],
  "metadata": {
    "colab": {
      "provenance": []
    },
    "kernelspec": {
      "display_name": "Python 3 (ipykernel)",
      "language": "python",
      "name": "python3"
    },
    "language_info": {
      "codemirror_mode": {
        "name": "ipython",
        "version": 3
      },
      "file_extension": ".py",
      "mimetype": "text/x-python",
      "name": "python",
      "nbconvert_exporter": "python",
      "pygments_lexer": "ipython3",
      "version": "3.11.5"
    }
  },
  "nbformat": 4,
  "nbformat_minor": 0
}
